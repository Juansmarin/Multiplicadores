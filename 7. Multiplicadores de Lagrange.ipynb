{
 "cells": [
  {
   "cell_type": "markdown",
   "metadata": {},
   "source": [
    " <div style=\"background-color: #023324; \"><p><br></p>\n",
    "    <img src=\"https://www.uexternado.edu.co/wp-content/themes/externado_theme/images/logo-uec.svg\" alt=\"Universidad Externado\" width=\"150\" align=\"left\">\n",
    "         <h1  style=\"color: white;font-family:Lucida Sans Unicode, Lucida Grande, sans-serif\" align=\"center\"> Multiplicadores de Lagrange    </h1> \n",
    "<p><br></p>\n",
    "</div>    \n",
    "\n",
    "\n",
    "<p><br></p>\n",
    "\n",
    "# ¿Para qué sirven?\n",
    "\n",
    "Los multiplicadores de Lagarange es una técnica para encontrar los máximos y minímos de una función $F(x,y,z)$, donde los valores de las variables $x$, $y$ y $z$ deben satisfacer una ecuación de la forma $$ g(x,y,z) = 0. $$\n",
    "\n",
    "Ésta ecuación se conoce como restricción del problema. A continuación presentamos el método.\n",
    "\n",
    "Para encontrar los máximos y mínimos, vamos a seguir los siguientes pasos.\t\t\t\n",
    "\n",
    "* Construir una nueva función denotada por $L$ y definida por: \n",
    " \n",
    "\t$$ L(x,y,z,\\lambda) = F(x,y,z) - \\lambda \\, g(x,y,z) .     $$  \n",
    "    \n",
    " La función $L$ se llama función *Lagrangiana* y $\\lambda$ se llama **Multiplicador de Lagrange**.\n",
    "\n",
    "* Calcule todas las derivadas parciales de primer orden de $L$.\n",
    "\n",
    "* Encuentre la solución del siguiente sistema de ecuaciones \n",
    " \n",
    " \\begin{align*}\n",
    "\tL_x &= 0 \\\\\n",
    "\tL_y &= 0 \\\\\n",
    "\tL_z &= 0 \\\\\n",
    "\tL_{\\lambda} &= 0.\n",
    " \\end{align*} \t\n",
    " \n",
    "* Sea $x=a$, $y=b$, $z=c$ y $\\lambda=\\lambda_0$, la solución del sistema de ecuaciones en el paso anterior. El punto $(a,b,c)$ se llama **punto crítico** de la función $L$.\n",
    "\n",
    "* Los puntos críticos de $L$ son los posibles candidatos para ser máximos o mínimos de la función $F$.\t\n",
    "\t\n",
    "* Evalue $F$ en todos los puntos críticos. El valor más grande de estos valores es el valor máximo de $F$, el más pequeño es el   valor mínimo de $F$.\t\n",
    "\n",
    "* La función $F$ y la restricción $g$ también pueden ser funciones de dos variables y el metodo funciona de igual manera. \n",
    "\n",
    "## Ejemplo\n",
    "\n",
    "Calcular los valores máximo y minimo de la función $F(x,y,z) = 2x + 6y + 10z$, sujeta a la restricción $ x^2 + y^2 + z^2 =35.$\n",
    "\n",
    "**Solución**\n",
    "\n",
    "Primero cargamos los paquetes para hacer calculo simbólicos\n",
    "\n",
    "\n",
    "La función $g$ de la restricción esta dada por $g(x,y,z) = x^2 + y^2 + z^2 - 35$, luego la función lagrangiana está dada por\n",
    "\n",
    "$$  L =  2x + 6y + 10z - \\lambda (x^2 + y^2 + z^2 - 35) $$ y seguimos el método, utilizando Python."
   ]
  },
  {
   "cell_type": "code",
   "execution_count": 1,
   "metadata": {},
   "outputs": [],
   "source": [
    "from sympy import *    # cargar paquetes para hacer calculos matemáticos\n",
    "init_printing(use_latex=True) "
   ]
  },
  {
   "cell_type": "code",
   "execution_count": 2,
   "metadata": {},
   "outputs": [],
   "source": [
    "x,y,z,l =symbols(\"x,y,z,l\")  # Creación de las variables de f y g, reemplazamos el multiplicador de Lagrange por l."
   ]
  },
  {
   "cell_type": "code",
   "execution_count": 3,
   "metadata": {},
   "outputs": [
    {
     "data": {
      "image/png": "[encoded data removed]",
      "text/latex": [
       "$\\displaystyle 2 x + 6 y + 10 z$"
      ],
      "text/plain": [
       "2⋅x + 6⋅y + 10⋅z"
      ]
     },
     "execution_count": 3,
     "metadata": {},
     "output_type": "execute_result"
    }
   ],
   "source": [
    "F = 2*x + 6*y + 10*z   # Función objetivo\n",
    "F"
   ]
  },
  {
   "cell_type": "code",
   "execution_count": 4,
   "metadata": {},
   "outputs": [
    {
     "data": {
      "image/png": "[encoded data removed]",
      "text/latex": [
       "$\\displaystyle x^{2} + y^{2} + z^{2} - 35$"
      ],
      "text/plain": [
       " 2    2    2     \n",
       "x  + y  + z  - 35"
      ]
     },
     "execution_count": 4,
     "metadata": {},
     "output_type": "execute_result"
    }
   ],
   "source": [
    "g = x**2 + y**2 + z**2 - 35  # Restricción\n",
    "g"
   ]
  },
  {
   "cell_type": "code",
   "execution_count": 5,
   "metadata": {},
   "outputs": [
    {
     "data": {
      "image/png": "[encoded data removed]",
      "text/latex": [
       "$\\displaystyle - l \\left(x^{2} + y^{2} + z^{2} - 35\\right) + 2 x + 6 y + 10 z$"
      ],
      "text/plain": [
       "    ⎛ 2    2    2     ⎞                   \n",
       "- l⋅⎝x  + y  + z  - 35⎠ + 2⋅x + 6⋅y + 10⋅z"
      ]
     },
     "execution_count": 5,
     "metadata": {},
     "output_type": "execute_result"
    }
   ],
   "source": [
    "L = F - l*g # Función lagrangiana\n",
    "L"
   ]
  },
  {
   "cell_type": "code",
   "execution_count": 6,
   "metadata": {},
   "outputs": [],
   "source": [
    "Lx = diff(L,x)  # Derivadas parciales de la\n",
    "Ly = diff(L,y)  # función lagrangiana con \n",
    "Lz = diff(L,z)  # respecto a las variables x,y,z,l\n",
    "Ll = diff(L,l)  "
   ]
  },
  {
   "cell_type": "code",
   "execution_count": 7,
   "metadata": {},
   "outputs": [
    {
     "data": {
      "image/png": "[encoded data removed]",
      "text/latex": [
       "$\\displaystyle \\left[ \\left( -1, \\  -3, \\  -5, \\  -1\\right), \\  \\left( 1, \\  3, \\  5, \\  1\\right)\\right]$"
      ],
      "text/plain": [
       "[(-1, -3, -5, -1), (1, 3, 5, 1)]"
      ]
     },
     "execution_count": 7,
     "metadata": {},
     "output_type": "execute_result"
    }
   ],
   "source": [
    "PC = solve([Lx,Ly,Lz,Ll],[x,y,z,l])  # Solución del sitema de ecuaciones del\n",
    "PC                                  # método de multilicadores de Lagrange"
   ]
  },
  {
   "cell_type": "markdown",
   "metadata": {},
   "source": [
    " "
   ]
  },
  {
   "cell_type": "markdown",
   "metadata": {},
   "source": [
    "Debemos descartar el ultimo valor de cada punto critico, el cual corresponde al valor de $\\lambda$."
   ]
  },
  {
   "cell_type": "code",
   "execution_count": 8,
   "metadata": {},
   "outputs": [
    {
     "data": {
      "image/png": "[encoded data removed]",
      "text/latex": [
       "$\\displaystyle -70$"
      ],
      "text/plain": [
       "-70"
      ]
     },
     "execution_count": 8,
     "metadata": {},
     "output_type": "execute_result"
    }
   ],
   "source": [
    "v1 = F.subs([(x,PC[0][0]),(y,PC[0][1]),(z,PC[0][2])]) # Evaluación del  punto crítico x=-1  y=-3   z=-5 \n",
    "v1"
   ]
  },
  {
   "cell_type": "code",
   "execution_count": 9,
   "metadata": {},
   "outputs": [
    {
     "data": {
      "image/png": "[encoded data removed]",
      "text/latex": [
       "$\\displaystyle 70$"
      ],
      "text/plain": [
       "70"
      ]
     },
     "execution_count": 9,
     "metadata": {},
     "output_type": "execute_result"
    }
   ],
   "source": [
    "v2 = F.subs([(x,PC[1][0]),(y,PC[1][1]),(z,PC[1][2])]) # Evaluación del  punto crítico x=1  y=3   z=5\n",
    "v2"
   ]
  },
  {
   "cell_type": "markdown",
   "metadata": {},
   "source": [
    "Concluimos que la función $F(x,y) = 2x + 6y + 10z$, sujeta a la restricción $ x^2 + y^2 + z^2 =35$ tiene un máximo cuando \n",
    "$x=-1$, $y=-3$ y $z=-5$ y tiene mínimo cuando $x=1$, $y=3$ y $z=5$. El valor máximo del problema  es $70$ y el valor mínimo es $-70$. "
   ]
  },
  {
   "cell_type": "markdown",
   "metadata": {},
   "source": [
    "## Ejemplo (Libro de Arya)\n",
    "\n",
    "El costo de producir $x$ modelos regulares y $y$ modelos de lujo del producto de una\n",
    "empresa está dado por la función conjunta de costo\n",
    "\n",
    "$$ C(x, y) = x^2 + 1.5y^2 + 300. $$\n",
    "\n",
    "¿Cuántas unidades de cada tipo deben producirse para minimizar los costos totales, si la empresa\n",
    "decide producir un total de 200 unidades?\n",
    "\n",
    "**Solución**\n",
    "\n",
    "El hecho de que la empresa produce unicamente un total de 200 unidades, siginifica que se debe cumplir la ecuación\n",
    "$x + y = 200$. Por lo tanto debemos que encontrar el valor mínimo de la función de costos $ C(x, y) = x^2 + 1.5y^2 + 300$,\n",
    "sujeta a la restricción $x + y - 200 = 0$.   "
   ]
  },
  {
   "cell_type": "code",
   "execution_count": 10,
   "metadata": {},
   "outputs": [
    {
     "data": {
      "image/png": "[encoded data removed]",
      "text/latex": [
       "$\\displaystyle x^{2} + 1.5 y^{2} + 300$"
      ],
      "text/plain": [
       " 2        2      \n",
       "x  + 1.5⋅y  + 300"
      ]
     },
     "execution_count": 10,
     "metadata": {},
     "output_type": "execute_result"
    }
   ],
   "source": [
    "C = x**2 + 1.5*y**2 + 300   # Función objetivo\n",
    "C"
   ]
  },
  {
   "cell_type": "code",
   "execution_count": 11,
   "metadata": {},
   "outputs": [
    {
     "data": {
      "image/png": "[encoded data removed]",
      "text/latex": [
       "$\\displaystyle x + y - 200$"
      ],
      "text/plain": [
       "x + y - 200"
      ]
     },
     "execution_count": 11,
     "metadata": {},
     "output_type": "execute_result"
    }
   ],
   "source": [
    "g = x + y - 200   # restricción\n",
    "g"
   ]
  },
  {
   "cell_type": "code",
   "execution_count": 12,
   "metadata": {},
   "outputs": [
    {
     "data": {
      "image/png": "[encoded data removed]",
      "text/latex": [
       "$\\displaystyle - l \\left(x + y - 200\\right) + x^{2} + 1.5 y^{2} + 300$"
      ],
      "text/plain": [
       "                    2        2      \n",
       "-l⋅(x + y - 200) + x  + 1.5⋅y  + 300"
      ]
     },
     "execution_count": 12,
     "metadata": {},
     "output_type": "execute_result"
    }
   ],
   "source": [
    "L = C - l*g   # Función lagrangiana\n",
    "L"
   ]
  },
  {
   "cell_type": "code",
   "execution_count": 13,
   "metadata": {},
   "outputs": [],
   "source": [
    "Lx = diff(L,x)  # Derivadas parciales de la\n",
    "Ly = diff(L,y)  # función lagrangiana con \n",
    "Ll = diff(L,l)  # respecto a las variables x,y,l  "
   ]
  },
  {
   "cell_type": "code",
   "execution_count": 14,
   "metadata": {},
   "outputs": [
    {
     "data": {
      "image/png": "[encoded data removed]",
      "text/latex": [
       "$\\displaystyle \\left\\{ l : 240.0, \\  x : 120.0, \\  y : 80.0\\right\\}$"
      ],
      "text/plain": [
       "{l: 240.0, x: 120.0, y: 80.0}"
      ]
     },
     "execution_count": 14,
     "metadata": {},
     "output_type": "execute_result"
    }
   ],
   "source": [
    "PC = solve([Lx,Ly,Ll],[x,y,l])  # Solución del sitema de ecuaciones del\n",
    "PC                                  # método de multilicadores de Lagrange"
   ]
  },
  {
   "cell_type": "markdown",
   "metadata": {},
   "source": [
    "El punto crítico está dado por $x = 120$   $y=80$"
   ]
  },
  {
   "cell_type": "code",
   "execution_count": 15,
   "metadata": {},
   "outputs": [
    {
     "data": {
      "image/png": "[encoded data removed]",
      "text/latex": [
       "$\\displaystyle 24300.0$"
      ],
      "text/plain": [
       "24300.0000000000"
      ]
     },
     "execution_count": 15,
     "metadata": {},
     "output_type": "execute_result"
    }
   ],
   "source": [
    "v1 = C.subs([(x,120),(y,80)]) # Evaluación del  punto crítico x=120  y=80 \n",
    "v1"
   ]
  },
  {
   "cell_type": "markdown",
   "metadata": {},
   "source": [
    "Ahora comparemos este valor con la imagen de cualquier otro que satisfaga la restricción, por ejemplo\n",
    "con $x = 150$,  $y = 50$, claramente estos valores satisfacen la restricción. "
   ]
  },
  {
   "cell_type": "code",
   "execution_count": 16,
   "metadata": {},
   "outputs": [
    {
     "data": {
      "image/png": "[encoded data removed]",
      "text/latex": [
       "$\\displaystyle 26550.0$"
      ],
      "text/plain": [
       "26550.0000000000"
      ]
     },
     "execution_count": 16,
     "metadata": {},
     "output_type": "execute_result"
    }
   ],
   "source": [
    "v2 = C.subs([(x,150),(y,50)]) # Evaluación de un  punto arbitrario que satisface la restricción x=120  y=80 \n",
    "v2"
   ]
  },
  {
   "cell_type": "code",
   "execution_count": 17,
   "metadata": {},
   "outputs": [
    {
     "data": {
      "image/png": "[encoded data removed]",
      "text/latex": [
       "$\\displaystyle 25300.0$"
      ],
      "text/plain": [
       "25300.0000000000"
      ]
     },
     "execution_count": 17,
     "metadata": {},
     "output_type": "execute_result"
    }
   ],
   "source": [
    "v3 = C.subs([(x,100),(y,100)]) # Evaluación de un  punto arbitrario que satisface la restricción x=100  y=100 \n",
    "v3"
   ]
  },
  {
   "cell_type": "markdown",
   "metadata": {},
   "source": [
    "Observamos que cuando $x = 120$ y $y = 80$ la función de costos se hace minima.\n",
    "\n",
    "Por lo tanto la empresa debe producir 120 modelos regulares y 80 modelos de lujo para obtener el costo mínimo."
   ]
  },
  {
   "cell_type": "markdown",
   "metadata": {},
   "source": [
    "# Resumen del proceso:\n",
    "\n",
    "1. Obtener la función lagrangiana.\n",
    "2. Derivar parcialmente.\n",
    "3. Encontrar el punto crítico.\n",
    "4. Evaluar el punto crítico.\n",
    "5. Evaluar otro punto que cumpla la restricción.\n",
    "6. Clasificar el punto crítico.\n",
    "\n"
   ]
  },
  {
   "cell_type": "markdown",
   "metadata": {},
   "source": [
    "## Ejercicios"
   ]
  },
  {
   "cell_type": "markdown",
   "metadata": {},
   "source": [
    "Mediante el método de multiplicadores de Lagrange,\n",
    "determine los puntos críticos de f sujetos a las restricciones\n",
    "dadas.\n",
    "\n",
    "* $f(x,y) = x^2 + y^2$,\n",
    "   \n",
    "   $2x +3y = 7$.\n",
    "   \n",
    "   \n",
    "* $f(x,y,z) = x^2+ y^2 + z^2  $\n",
    "\n",
    "   $2x +3y + 4z = 29$\n",
    "   \n",
    "   \n",
    "*  $f(x,y,z) = xyz  $\n",
    "\n",
    "   $xy +yz + 2xz = 24$  "
   ]
  },
  {
   "cell_type": "code",
   "execution_count": 18,
   "metadata": {},
   "outputs": [
    {
     "data": {
      "image/png": "[encoded data removed]",
      "text/latex": [
       "$\\displaystyle x y z$"
      ],
      "text/plain": [
       "x⋅y⋅z"
      ]
     },
     "execution_count": 18,
     "metadata": {},
     "output_type": "execute_result"
    }
   ],
   "source": [
    "f=x*y*z\n",
    "f"
   ]
  },
  {
   "cell_type": "code",
   "execution_count": 19,
   "metadata": {},
   "outputs": [
    {
     "data": {
      "image/png": "[encoded data removed]",
      "text/latex": [
       "$\\displaystyle x y + 2 x z + y z - 24$"
      ],
      "text/plain": [
       "x⋅y + 2⋅x⋅z + y⋅z - 24"
      ]
     },
     "execution_count": 19,
     "metadata": {},
     "output_type": "execute_result"
    }
   ],
   "source": [
    "g=x*y+y*z+2*x*z-24\n",
    "g"
   ]
  },
  {
   "cell_type": "code",
   "execution_count": 20,
   "metadata": {},
   "outputs": [
    {
     "data": {
      "image/png": "[encoded data removed]",
      "text/latex": [
       "$\\displaystyle l \\left(x y + 2 x z + y z - 24\\right) + x y z$"
      ],
      "text/plain": [
       "l⋅(x⋅y + 2⋅x⋅z + y⋅z - 24) + x⋅y⋅z"
      ]
     },
     "execution_count": 20,
     "metadata": {},
     "output_type": "execute_result"
    }
   ],
   "source": [
    "L=f+l*g\n",
    "L"
   ]
  },
  {
   "cell_type": "code",
   "execution_count": 21,
   "metadata": {},
   "outputs": [
    {
     "data": {
      "image/png": "[encoded data removed]",
      "text/latex": [
       "$\\displaystyle l \\left(y + 2 z\\right) + y z$"
      ],
      "text/plain": [
       "l⋅(y + 2⋅z) + y⋅z"
      ]
     },
     "execution_count": 21,
     "metadata": {},
     "output_type": "execute_result"
    }
   ],
   "source": [
    "dLx=diff(L,x)\n",
    "dLx"
   ]
  },
  {
   "cell_type": "code",
   "execution_count": 22,
   "metadata": {},
   "outputs": [
    {
     "data": {
      "image/png": "[encoded data removed]",
      "text/latex": [
       "$\\displaystyle l \\left(x + z\\right) + x z$"
      ],
      "text/plain": [
       "l⋅(x + z) + x⋅z"
      ]
     },
     "execution_count": 22,
     "metadata": {},
     "output_type": "execute_result"
    }
   ],
   "source": [
    "dLy=diff(L,y)\n",
    "dLy"
   ]
  },
  {
   "cell_type": "code",
   "execution_count": 23,
   "metadata": {},
   "outputs": [
    {
     "data": {
      "image/png": "[encoded data removed]",
      "text/latex": [
       "$\\displaystyle l \\left(2 x + y\\right) + x y$"
      ],
      "text/plain": [
       "l⋅(2⋅x + y) + x⋅y"
      ]
     },
     "execution_count": 23,
     "metadata": {},
     "output_type": "execute_result"
    }
   ],
   "source": [
    "dLz=diff(L,z)\n",
    "dLz"
   ]
  },
  {
   "cell_type": "code",
   "execution_count": 24,
   "metadata": {},
   "outputs": [
    {
     "data": {
      "image/png": "[encoded data removed]",
      "text/latex": [
       "$\\displaystyle x y + 2 x z + y z - 24$"
      ],
      "text/plain": [
       "x⋅y + 2⋅x⋅z + y⋅z - 24"
      ]
     },
     "execution_count": 24,
     "metadata": {},
     "output_type": "execute_result"
    }
   ],
   "source": [
    "dLl=diff(L,l)\n",
    "dLl"
   ]
  },
  {
   "cell_type": "code",
   "execution_count": 25,
   "metadata": {},
   "outputs": [
    {
     "data": {
      "image/png": "[encoded data removed]",
      "text/latex": [
       "$\\displaystyle \\left[ \\left( -2, \\  -4, \\  -2, \\  1\\right), \\  \\left( 2, \\  4, \\  2, \\  -1\\right)\\right]$"
      ],
      "text/plain": [
       "[(-2, -4, -2, 1), (2, 4, 2, -1)]"
      ]
     },
     "execution_count": 25,
     "metadata": {},
     "output_type": "execute_result"
    }
   ],
   "source": [
    "solve([dLx,dLy,dLz,dLl],[x,y,z,l])"
   ]
  },
  {
   "cell_type": "markdown",
   "metadata": {},
   "source": [
    "solve([ecuaciones,separadas,por,comas],[variables,separadas,por,comas])"
   ]
  },
  {
   "cell_type": "code",
   "execution_count": 26,
   "metadata": {},
   "outputs": [
    {
     "data": {
      "image/png": "[encoded data removed]",
      "text/latex": [
       "$\\displaystyle -16$"
      ],
      "text/plain": [
       "-16"
      ]
     },
     "execution_count": 26,
     "metadata": {},
     "output_type": "execute_result"
    }
   ],
   "source": [
    "f.subs([(x,-2),(y,-4),(z,-2)])"
   ]
  },
  {
   "cell_type": "code",
   "execution_count": 27,
   "metadata": {},
   "outputs": [
    {
     "data": {
      "image/png": "[encoded data removed]",
      "text/latex": [
       "$\\displaystyle 16$"
      ],
      "text/plain": [
       "16"
      ]
     },
     "execution_count": 27,
     "metadata": {},
     "output_type": "execute_result"
    }
   ],
   "source": [
    "f.subs([(x,2),(y,4),(z,2)])"
   ]
  },
  {
   "cell_type": "markdown",
   "metadata": {},
   "source": [
    "$(-2,-4,-2)$ es un mínimo\n",
    "\n",
    "$(2,4,2)$ es un máximo"
   ]
  },
  {
   "cell_type": "code",
   "execution_count": 28,
   "metadata": {},
   "outputs": [],
   "source": [
    "L,K,l =symbols(\"L,K,l\")"
   ]
  },
  {
   "cell_type": "code",
   "execution_count": 29,
   "metadata": {},
   "outputs": [
    {
     "data": {
      "image/png": "[encoded data removed]",
      "text/latex": [
       "$\\displaystyle 80 K^{0.25} L^{0.75}$"
      ],
      "text/plain": [
       "    0.25  0.75\n",
       "80⋅K    ⋅L    "
      ]
     },
     "execution_count": 29,
     "metadata": {},
     "output_type": "execute_result"
    }
   ],
   "source": [
    "#Función objetivo es la produción\n",
    "P=80*(L**(3/4))*(K**(1/4))\n",
    "P"
   ]
  },
  {
   "cell_type": "markdown",
   "metadata": {},
   "source": [
    "$$60L+200K=40000$$\n",
    "hay que igualar a cero\n",
    "$$60L+200K-40000=0$$"
   ]
  },
  {
   "cell_type": "code",
   "execution_count": 30,
   "metadata": {},
   "outputs": [
    {
     "data": {
      "image/png": "[encoded data removed]",
      "text/latex": [
       "$\\displaystyle 200 K + 60 L - 40000$"
      ],
      "text/plain": [
       "200⋅K + 60⋅L - 40000"
      ]
     },
     "execution_count": 30,
     "metadata": {},
     "output_type": "execute_result"
    }
   ],
   "source": [
    "g=60*L+200*K-40000 #Restricción\n",
    "g"
   ]
  },
  {
   "cell_type": "code",
   "execution_count": 31,
   "metadata": {},
   "outputs": [
    {
     "data": {
      "image/png": "[encoded data removed]",
      "text/latex": [
       "$\\displaystyle 80 K^{0.25} L^{0.75} - l \\left(200 K + 60 L - 40000\\right)$"
      ],
      "text/plain": [
       "    0.25  0.75                           \n",
       "80⋅K    ⋅L     - l⋅(200⋅K + 60⋅L - 40000)"
      ]
     },
     "execution_count": 31,
     "metadata": {},
     "output_type": "execute_result"
    }
   ],
   "source": [
    "F=P-l*g\n",
    "F"
   ]
  },
  {
   "cell_type": "code",
   "execution_count": 32,
   "metadata": {},
   "outputs": [],
   "source": [
    "FK=diff(F,K)\n",
    "FL=diff(F,L)\n",
    "Fl=diff(F,l)"
   ]
  },
  {
   "cell_type": "code",
   "execution_count": 34,
   "metadata": {},
   "outputs": [
    {
     "data": {
      "image/png": "[encoded data removed]",
      "text/latex": [
       "$\\displaystyle \\left[ \\left( 50.0, \\  500.0, \\  0.562341325190349\\right)\\right]$"
      ],
      "text/plain": [
       "[(50.0, 500.0, 0.562341325190349)]"
      ]
     },
     "execution_count": 34,
     "metadata": {},
     "output_type": "execute_result"
    }
   ],
   "source": [
    "PC=solve([FK,FL,Fl],[K,L,l])\n",
    "PC"
   ]
  },
  {
   "cell_type": "markdown",
   "metadata": {},
   "source": [
    "Como hay un único punto crítico, hay que buscar un punto de prueba:"
   ]
  },
  {
   "cell_type": "code",
   "execution_count": 35,
   "metadata": {},
   "outputs": [
    {
     "data": {
      "image/png": "[encoded data removed]",
      "text/latex": [
       "$\\displaystyle 200 K - 16000$"
      ],
      "text/plain": [
       "200⋅K - 16000"
      ]
     },
     "execution_count": 35,
     "metadata": {},
     "output_type": "execute_result"
    }
   ],
   "source": [
    "g.subs(L,400)"
   ]
  },
  {
   "cell_type": "code",
   "execution_count": 36,
   "metadata": {},
   "outputs": [
    {
     "data": {
      "image/png": "[encoded data removed]",
      "text/latex": [
       "$\\displaystyle \\left[ 80\\right]$"
      ],
      "text/plain": [
       "[80]"
      ]
     },
     "execution_count": 36,
     "metadata": {},
     "output_type": "execute_result"
    }
   ],
   "source": [
    "solve(g.subs(L,400),K)"
   ]
  },
  {
   "cell_type": "markdown",
   "metadata": {},
   "source": [
    "El punto de prueba es $K=80$ y $L=400$\n"
   ]
  },
  {
   "cell_type": "code",
   "execution_count": 37,
   "metadata": {},
   "outputs": [
    {
     "data": {
      "image/png": "[encoded data removed]",
      "text/latex": [
       "$\\displaystyle 22493.653007614$"
      ],
      "text/plain": [
       "22493.6530076140"
      ]
     },
     "execution_count": 37,
     "metadata": {},
     "output_type": "execute_result"
    }
   ],
   "source": [
    "P.subs([(K,50),(L,500)])"
   ]
  },
  {
   "cell_type": "code",
   "execution_count": 38,
   "metadata": {},
   "outputs": [
    {
     "data": {
      "image/png": "[encoded data removed]",
      "text/latex": [
       "$\\displaystyle 21399.6897592455$"
      ],
      "text/plain": [
       "21399.6897592455"
      ]
     },
     "execution_count": 38,
     "metadata": {},
     "output_type": "execute_result"
    }
   ],
   "source": [
    "P.subs([(K,80),(L,400)])"
   ]
  },
  {
   "cell_type": "markdown",
   "metadata": {},
   "source": [
    "El punto crítico $K=50$ y $L=500$ es un máximo, y la producción será de $22.493$"
   ]
  },
  {
   "cell_type": "code",
   "execution_count": null,
   "metadata": {},
   "outputs": [],
   "source": []
  }
 ],
 "metadata": {
  "kernelspec": {
   "display_name": "Python 3",
   "language": "python",
   "name": "python3"
  },
  "language_info": {
   "codemirror_mode": {
    "name": "ipython",
    "version": 3
   },
   "file_extension": ".py",
   "mimetype": "text/x-python",
   "name": "python",
   "nbconvert_exporter": "python",
   "pygments_lexer": "ipython3",
   "version": "3.7.1"
  },
  "latex_envs": {
   "LaTeX_envs_menu_present": true,
   "autoclose": false,
   "autocomplete": true,
   "bibliofile": "biblio.bib",
   "cite_by": "apalike",
   "current_citInitial": 1,
   "eqLabelWithNumbers": true,
   "eqNumInitial": 1,
   "hotkeys": {
    "equation": "Ctrl-E",
    "itemize": "Ctrl-I"
   },
   "labels_anchors": false,
   "latex_user_defs": false,
   "report_style_numbering": false,
   "user_envs_cfg": false
  },
  "toc": {
   "base_numbering": 1,
   "nav_menu": {},
   "number_sections": true,
   "sideBar": true,
   "skip_h1_title": true,
   "title_cell": "Table of Contents",
   "title_sidebar": "Contents",
   "toc_cell": false,
   "toc_position": {
    "height": "calc(100% - 180px)",
    "left": "10px",
    "top": "150px",
    "width": "165px"
   },
   "toc_section_display": true,
   "toc_window_display": true
  }
 },
 "nbformat": 4,
 "nbformat_minor": 4
}
